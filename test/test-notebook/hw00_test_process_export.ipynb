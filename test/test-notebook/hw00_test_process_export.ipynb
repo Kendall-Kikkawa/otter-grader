{
 "cells": [
  {
   "cell_type": "markdown",
   "metadata": {},
   "source": [
    "# Sample Filtering Notebook\n",
    "\n",
    "This cell should remain in the output since it has no tag."
   ]
  },
  {
   "cell_type": "code",
   "execution_count": 1,
   "metadata": {},
   "outputs": [],
   "source": [
    "# this is a code cell\n",
    "# with no plot in the output\n",
    "# so it should be gone\n",
    "import numpy as np\n",
    "import matplotlib.pyplot as plt\n",
    "%matplotlib inline"
   ]
  },
  {
   "cell_type": "markdown",
   "metadata": {},
   "source": [
    "This markdown cell should also remain. **Look at the plot** of this function:\n",
    "\n",
    "$$\\Large\n",
    "f(x) = cos(2x) + e^x$$"
   ]
  },
  {
   "cell_type": "markdown",
   "metadata": {
    "tags": [
     "ignore"
    ]
   },
   "source": [
    "This cell should be _gone_."
   ]
  },
  {
   "cell_type": "code",
   "execution_count": 2,
   "metadata": {},
   "outputs": [
    {
     "data": {
      "text/plain": [
       "[<matplotlib.lines.Line2D at 0x7f7fe6fb64f0>]"
      ]
     },
     "execution_count": 2,
     "metadata": {},
     "output_type": "execute_result"
    },
    {
     "data": {
      "image/png": "[encoded data removed]",
      "text/plain": [
       "<Figure size 432x288 with 1 Axes>"
      ]
     },
     "metadata": {
      "needs_background": "light"
     },
     "output_type": "display_data"
    }
   ],
   "source": [
    "# this cell should remain because it has a plot\n",
    "x = np.linspace(0,10,1000)\n",
    "y = np.cos(2*x) + np.exp(x)\n",
    "plt.plot(x,y)"
   ]
  },
  {
   "cell_type": "code",
   "execution_count": 3,
   "metadata": {
    "tags": [
     "include"
    ]
   },
   "outputs": [
    {
     "name": "stdout",
     "output_type": "stream",
     "text": [
      "[0.         0.02002002 0.04004004 0.06006006 0.08008008]\n"
     ]
    }
   ],
   "source": [
    "# this code cell should remain, since it has the \"include\" tag\n",
    "y = 2*x\n",
    "print(y[0:5])"
   ]
  },
  {
   "cell_type": "markdown",
   "metadata": {
    "tags": [
     "include"
    ]
   },
   "source": [
    "This MD cell should also remain, because it's included"
   ]
  },
  {
   "cell_type": "code",
   "execution_count": 4,
   "metadata": {
    "tags": [
     "ignore"
    ]
   },
   "outputs": [
    {
     "data": {
      "text/plain": [
       "[<matplotlib.lines.Line2D at 0x7f7fe70bc790>]"
      ]
     },
     "execution_count": 4,
     "metadata": {},
     "output_type": "execute_result"
    },
    {
     "data": {
      "image/png": "[encoded data removed]",
      "text/plain": [
       "<Figure size 432x288 with 1 Axes>"
      ]
     },
     "metadata": {
      "needs_background": "light"
     },
     "output_type": "display_data"
    }
   ],
   "source": [
    "# this plot should be excluded, since it's tagged as \"ignore\"\n",
    "plt.plot(x,y**2)"
   ]
  },
  {
   "cell_type": "code",
   "execution_count": 5,
   "metadata": {},
   "outputs": [],
   "source": [
    "def negate(x):\n",
    "    return not x\n",
    "\n",
    "def square(x):\n",
    "    return x**2"
   ]
  },
  {
   "cell_type": "code",
   "execution_count": 9,
   "metadata": {},
   "outputs": [],
   "source": [
    "import otter"
   ]
  },
  {
   "cell_type": "code",
   "execution_count": 11,
   "metadata": {},
   "outputs": [
    {
     "data": {
      "text/html": [
       "<p><strong><pre style='display: inline;'>q1</pre></strong> passed!</p>\n",
       "\n",
       "<p><strong style='color: red;'><pre style='display: inline;'>q2</pre> results:</strong></p><p><strong><pre style='display: inline;'>q2 - 1</pre> result:</strong></p><pre>    Trying:\n",
       "        1 == 1\n",
       "    Expecting:\n",
       "        False\n",
       "    **********************************************************************\n",
       "    Line 2, in q2 0\n",
       "    Failed example:\n",
       "        1 == 1\n",
       "    Expected:\n",
       "        False\n",
       "    Got:\n",
       "        True\n",
       "</pre><p><strong><pre style='display: inline;'>q2 - 2</pre> result:</strong></p><pre>    Test case passed!</pre>\n",
       "\n",
       "<p><strong><pre style='display: inline;'>q3</pre></strong> passed!</p>\n",
       "\n",
       "<p><strong><pre style='display: inline;'>q4</pre></strong> passed!</p>\n",
       "\n",
       "<p><strong><pre style='display: inline;'>q5</pre></strong> passed!</p>\n",
       "\n"
      ],
      "text/plain": [
       "q1 results: All test cases passed!\n",
       "\n",
       "q2 results:\n",
       "    q2 - 1 result:\n",
       "        Trying:\n",
       "            1 == 1\n",
       "        Expecting:\n",
       "            False\n",
       "        **********************************************************************\n",
       "        Line 2, in q2 0\n",
       "        Failed example:\n",
       "            1 == 1\n",
       "        Expected:\n",
       "            False\n",
       "        Got:\n",
       "            True\n",
       "\n",
       "    q2 - 2 result:\n",
       "        Test case passed!\n",
       "\n",
       "q3 results: All test cases passed!\n",
       "\n",
       "q4 results: All test cases passed!\n",
       "\n",
       "q5 results: All test cases passed!\n"
      ]
     },
     "execution_count": 11,
     "metadata": {},
     "output_type": "execute_result"
    }
   ],
   "source": [
    "n = otter.Notebook(\"hw00_process_export.ipynb\")\n",
    "n.check_all()"
   ]
  },
  {
   "cell_type": "code",
   "execution_count": 12,
   "metadata": {},
   "outputs": [
    {
     "data": {
      "text/html": [
       "\n",
       "                <p>Your submission has been exported. Click <a href=\"hw00_process_export_2021_07_01T22_29_04_840728.zip\" target=\"_blank\">here</a>\n",
       "                to download the zip file.</p>\n",
       "                "
      ],
      "text/plain": [
       "<IPython.core.display.HTML object>"
      ]
     },
     "metadata": {},
     "output_type": "display_data"
    },
    {
     "data": {
      "text/plain": [
       "{ 'q1': { 'all_or_nothing': True,\n",
       "          'name': 'q1',\n",
       "          'path': 'tests/q1.py',\n",
       "          'possible': 1.0,\n",
       "          'score': 1.0,\n",
       "          'test_case_results': [ { 'message': 'Test case passed!',\n",
       "                                   'passed': True,\n",
       "                                   'test_case': TestCase(name='q1 - 1', body='\\n>>> 1 == 1\\nTrue\\n', hidden=False, points=0.5, success_message=None, failure_message=None)},\n",
       "                                 { 'message': 'Test case passed!',\n",
       "                                   'passed': True,\n",
       "                                   'test_case': TestCase(name='q1 - 2', body='\\n>>> 1 == 2\\nFalse\\n', hidden=False, points=0.5, success_message=None, failure_message=None)}],\n",
       "          'test_cases': [ { 'body': '\\n>>> 1 == 1\\nTrue\\n',\n",
       "                            'failure_message': None,\n",
       "                            'hidden': False,\n",
       "                            'name': 'q1 - 1',\n",
       "                            'points': 0.5,\n",
       "                            'success_message': None},\n",
       "                          { 'body': '\\n>>> 1 == 2\\nFalse\\n',\n",
       "                            'failure_message': None,\n",
       "                            'hidden': False,\n",
       "                            'name': 'q1 - 2',\n",
       "                            'points': 0.5,\n",
       "                            'success_message': None}]},\n",
       "  'q2': { 'all_or_nothing': True,\n",
       "          'name': 'q2',\n",
       "          'path': 'tests/q2.py',\n",
       "          'possible': 1.0,\n",
       "          'score': 0.5,\n",
       "          'test_case_results': [ { 'message': 'Trying:\\n'\n",
       "                                              '    1 == 1\\n'\n",
       "                                              'Expecting:\\n'\n",
       "                                              '    False\\n'\n",
       "                                              '**********************************************************************\\n'\n",
       "                                              'Line 2, in q2 0\\n'\n",
       "                                              'Failed example:\\n'\n",
       "                                              '    1 == 1\\n'\n",
       "                                              'Expected:\\n'\n",
       "                                              '    False\\n'\n",
       "                                              'Got:\\n'\n",
       "                                              '    True\\n',\n",
       "                                   'passed': False,\n",
       "                                   'test_case': TestCase(name='q2 - 1', body='\\n>>> 1 == 1\\nFalse\\n', hidden=True, points=0.5, success_message=None, failure_message=None)},\n",
       "                                 { 'message': 'Test case passed!',\n",
       "                                   'passed': True,\n",
       "                                   'test_case': TestCase(name='q2 - 2', body='\\n>>> import tqdm\\n>>> print(tqdm.__name__)\\ntqdm\\n', hidden=False, points=0.5, success_message=None, failure_message=None)}],\n",
       "          'test_cases': [ { 'body': '\\n>>> 1 == 1\\nFalse\\n',\n",
       "                            'failure_message': None,\n",
       "                            'hidden': True,\n",
       "                            'name': 'q2 - 1',\n",
       "                            'points': 0.5,\n",
       "                            'success_message': None},\n",
       "                          { 'body': '\\n'\n",
       "                                    '>>> import tqdm\\n'\n",
       "                                    '>>> print(tqdm.__name__)\\n'\n",
       "                                    'tqdm\\n',\n",
       "                            'failure_message': None,\n",
       "                            'hidden': False,\n",
       "                            'name': 'q2 - 2',\n",
       "                            'points': 0.5,\n",
       "                            'success_message': None}]},\n",
       "  'q3': { 'all_or_nothing': True,\n",
       "          'name': 'q3',\n",
       "          'path': 'tests/q3.py',\n",
       "          'possible': 1.0,\n",
       "          'score': 1.0,\n",
       "          'test_case_results': [ { 'message': 'Test case passed!',\n",
       "                                   'passed': True,\n",
       "                                   'test_case': TestCase(name='q3 - 1', body='\\n>>> import tqdm\\n>>> print(tqdm.__name__)\\ntqdm\\n>>> 1 == 1\\nTrue\\n', hidden=False, points=0.5, success_message=None, failure_message=None)},\n",
       "                                 { 'message': 'Test case passed!',\n",
       "                                   'passed': True,\n",
       "                                   'test_case': TestCase(name='q3 - 2', body='\\n>>> import tqdm\\n>>> print(tqdm.__name__)\\ntqdm\\n>>> 1 == 1\\nTrue\\n', hidden=True, points=0.5, success_message=None, failure_message=None)}],\n",
       "          'test_cases': [ { 'body': '\\n'\n",
       "                                    '>>> import tqdm\\n'\n",
       "                                    '>>> print(tqdm.__name__)\\n'\n",
       "                                    'tqdm\\n'\n",
       "                                    '>>> 1 == 1\\n'\n",
       "                                    'True\\n',\n",
       "                            'failure_message': None,\n",
       "                            'hidden': False,\n",
       "                            'name': 'q3 - 1',\n",
       "                            'points': 0.5,\n",
       "                            'success_message': None},\n",
       "                          { 'body': '\\n'\n",
       "                                    '>>> import tqdm\\n'\n",
       "                                    '>>> print(tqdm.__name__)\\n'\n",
       "                                    'tqdm\\n'\n",
       "                                    '>>> 1 == 1\\n'\n",
       "                                    'True\\n',\n",
       "                            'failure_message': None,\n",
       "                            'hidden': True,\n",
       "                            'name': 'q3 - 2',\n",
       "                            'points': 0.5,\n",
       "                            'success_message': None}]},\n",
       "  'q4': { 'all_or_nothing': True,\n",
       "          'name': 'q4',\n",
       "          'path': 'tests/q4.py',\n",
       "          'possible': 1.0,\n",
       "          'score': 1.0,\n",
       "          'test_case_results': [ { 'message': 'Test case passed!',\n",
       "                                   'passed': True,\n",
       "                                   'test_case': TestCase(name='q4 - 1', body='\\n>>> square(5)\\n25\\n>>> square(2.5)\\n6.25\\n', hidden=False, points=1.0, success_message=None, failure_message=None)}],\n",
       "          'test_cases': [ { 'body': '\\n'\n",
       "                                    '>>> square(5)\\n'\n",
       "                                    '25\\n'\n",
       "                                    '>>> square(2.5)\\n'\n",
       "                                    '6.25\\n',\n",
       "                            'failure_message': None,\n",
       "                            'hidden': False,\n",
       "                            'name': 'q4 - 1',\n",
       "                            'points': 1.0,\n",
       "                            'success_message': None}]},\n",
       "  'q5': { 'all_or_nothing': True,\n",
       "          'name': 'q5',\n",
       "          'path': 'tests/q5.py',\n",
       "          'possible': 1.0,\n",
       "          'score': 1.0,\n",
       "          'test_case_results': [ { 'message': 'Test case passed!',\n",
       "                                   'passed': True,\n",
       "                                   'test_case': TestCase(name='q5 - 1', body='\\n>>> negate(1 == 1)\\nFalse\\n>>> negate(True ^ False)\\nFalse\\n>>> negate(True ^ True)\\nTrue\\n', hidden=False, points=1.0, success_message=None, failure_message=None)}],\n",
       "          'test_cases': [ { 'body': '\\n'\n",
       "                                    '>>> negate(1 == 1)\\n'\n",
       "                                    'False\\n'\n",
       "                                    '>>> negate(True ^ False)\\n'\n",
       "                                    'False\\n'\n",
       "                                    '>>> negate(True ^ True)\\n'\n",
       "                                    'True\\n',\n",
       "                            'failure_message': None,\n",
       "                            'hidden': False,\n",
       "                            'name': 'q5 - 1',\n",
       "                            'points': 1.0,\n",
       "                            'success_message': None}]}}"
      ]
     },
     "metadata": {},
     "output_type": "display_data"
    }
   ],
   "source": [
    "n.export(pdf=False)"
   ]
  }
 ],
 "metadata": {
  "celltoolbar": "Tags",
  "interpreter": {
   "hash": "082e9a3bcad0a290d0001e938aa60b99250c6c2ef33a923c00b70f9826caf4b7"
  },
  "kernelspec": {
   "display_name": "Python 3.8.3 64-bit ('3.8')",
   "name": "python3"
  },
  "language_info": {
   "name": "python",
   "version": ""
  },
  "varInspector": {
   "cols": {
    "lenName": 16,
    "lenType": 16,
    "lenVar": 40
   },
   "kernels_config": {
    "python": {
     "delete_cmd_postfix": "",
     "delete_cmd_prefix": "del ",
     "library": "var_list.py",
     "varRefreshCmd": "print(var_dic_list())"
    },
    "r": {
     "delete_cmd_postfix": ") ",
     "delete_cmd_prefix": "rm(",
     "library": "var_list.r",
     "varRefreshCmd": "cat(var_dic_list()) "
    }
   },
   "types_to_exclude": [
    "module",
    "function",
    "builtin_function_or_method",
    "instance",
    "_Feature"
   ],
   "window_display": false
  }
 },
 "nbformat": 4,
 "nbformat_minor": 2
}